{
 "cells": [
  {
   "cell_type": "code",
   "execution_count": 1,
   "id": "9d0f6f63-ea65-40b1-9b96-c5168ac6e2f5",
   "metadata": {},
   "outputs": [],
   "source": [
    "import pandas as pd"
   ]
  },
  {
   "cell_type": "code",
   "execution_count": 2,
   "id": "1b12229a-93ba-4f1a-9d93-fffb5be1e785",
   "metadata": {},
   "outputs": [],
   "source": [
    "db = pd.read_csv(\"2_db_email_only.csv\", low_memory=False)"
   ]
  },
  {
   "cell_type": "code",
   "execution_count": 3,
   "id": "c1620d62-a5c9-4b9b-99a1-a5454ad0ffe9",
   "metadata": {},
   "outputs": [],
   "source": [
    "df1 = pd.read_csv(\"1all_files_email_and_phone.csv\")\n",
    "df2 = pd.read_csv(\"2file2_ONLY_personal_emails.csv\")\n",
    "df3 = pd.read_csv(\"3file3_ONLY_phone.csv\")"
   ]
  },
  {
   "cell_type": "code",
   "execution_count": 4,
   "id": "3b5814fe-bc06-49b5-85e5-485e56675cfc",
   "metadata": {},
   "outputs": [
    {
     "data": {
      "text/plain": [
       "0          False\n",
       "1          False\n",
       "2          False\n",
       "3          False\n",
       "4          False\n",
       "           ...  \n",
       "1048570    False\n",
       "1048571    False\n",
       "1048572    False\n",
       "1048573    False\n",
       "1048574    False\n",
       "Name: linkedinurl, Length: 1048575, dtype: bool"
      ]
     },
     "execution_count": 4,
     "metadata": {},
     "output_type": "execute_result"
    }
   ],
   "source": [
    "# Running file 1 against database 2\n",
    "df1['linkedinurl'].isin(db['linkedinurl'])"
   ]
  },
  {
   "cell_type": "code",
   "execution_count": 5,
   "id": "f2a003ea-7817-47b8-b936-cf9483f78703",
   "metadata": {
    "scrolled": true
   },
   "outputs": [
    {
     "data": {
      "text/plain": [
       "0         False\n",
       "1         False\n",
       "2         False\n",
       "3         False\n",
       "4         False\n",
       "          ...  \n",
       "643324    False\n",
       "643325    False\n",
       "643326    False\n",
       "643327    False\n",
       "643328    False\n",
       "Name: linkedinurl, Length: 643329, dtype: bool"
      ]
     },
     "execution_count": 5,
     "metadata": {},
     "output_type": "execute_result"
    }
   ],
   "source": [
    "# Running file 2 against database 2\n",
    "df2['linkedinurl'].isin(db['linkedinurl'])"
   ]
  },
  {
   "cell_type": "code",
   "execution_count": 6,
   "id": "e5f330ca-de7a-4624-847c-d6d322c5b8f5",
   "metadata": {},
   "outputs": [
    {
     "data": {
      "text/plain": [
       "0          False\n",
       "1          False\n",
       "2          False\n",
       "3          False\n",
       "4          False\n",
       "           ...  \n",
       "1048570    False\n",
       "1048571    False\n",
       "1048572    False\n",
       "1048573    False\n",
       "1048574    False\n",
       "Name: linkedinurl, Length: 1048575, dtype: bool"
      ]
     },
     "execution_count": 6,
     "metadata": {},
     "output_type": "execute_result"
    }
   ],
   "source": [
    "# Running file 3 against database 2\n",
    "df3['linkedinurl'].isin(db['linkedinurl'])"
   ]
  },
  {
   "cell_type": "code",
   "execution_count": 8,
   "id": "bff261d7-af83-40f3-b88d-6853603c1f0e",
   "metadata": {},
   "outputs": [],
   "source": [
    "common_values = set(db['linkedinurl'].values).intersection(set(df1['linkedinurl'].values))"
   ]
  },
  {
   "cell_type": "code",
   "execution_count": 9,
   "id": "1e4aaa34-8ad6-4968-b205-b552bac7c725",
   "metadata": {},
   "outputs": [
    {
     "data": {
      "text/plain": [
       "set()"
      ]
     },
     "execution_count": 9,
     "metadata": {},
     "output_type": "execute_result"
    }
   ],
   "source": [
    "common_values"
   ]
  },
  {
   "cell_type": "code",
   "execution_count": null,
   "id": "4288cce6-80a8-48ef-a3a2-f79e6dea8a80",
   "metadata": {},
   "outputs": [],
   "source": []
  }
 ],
 "metadata": {
  "kernelspec": {
   "display_name": "Python 3 (ipykernel)",
   "language": "python",
   "name": "python3"
  },
  "language_info": {
   "codemirror_mode": {
    "name": "ipython",
    "version": 3
   },
   "file_extension": ".py",
   "mimetype": "text/x-python",
   "name": "python",
   "nbconvert_exporter": "python",
   "pygments_lexer": "ipython3",
   "version": "3.11.3"
  }
 },
 "nbformat": 4,
 "nbformat_minor": 5
}
